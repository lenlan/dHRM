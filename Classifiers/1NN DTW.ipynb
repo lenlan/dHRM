{
 "cells": [
  {
   "cell_type": "code",
   "execution_count": 2,
   "metadata": {
    "collapsed": true
   },
   "outputs": [
    {
     "name": "stderr",
     "output_type": "stream",
     "text": [
      "also installing the dependencies ‘bigmemory.sri’, ‘BH’, ‘modeltools’, ‘RcppEigen’, ‘proxy’, ‘dtw’, ‘bigmemory’, ‘clue’, ‘cluster’, ‘flexclust’, ‘ggrepel’, ‘nloptr’, ‘RSpectra’, ‘RcppParallel’, ‘shinyjs’, ‘RcppThread’\n",
      "\n",
      "Updating HTML index of packages in '.Library'\n",
      "Making 'packages.html' ... done\n",
      "Updating HTML index of packages in '.Library'\n",
      "Making 'packages.html' ... done\n",
      "also installing the dependencies ‘gtools’, ‘gdata’, ‘caTools’, ‘gplots’, ‘ROCR’\n",
      "\n",
      "Updating HTML index of packages in '.Library'\n",
      "Making 'packages.html' ... done\n",
      "also installing the dependencies ‘ModelMetrics’, ‘recipes’, ‘pROC’\n",
      "\n",
      "Updating HTML index of packages in '.Library'\n",
      "Making 'packages.html' ... done\n",
      "Updating HTML index of packages in '.Library'\n",
      "Making 'packages.html' ... done\n"
     ]
    }
   ],
   "source": [
    "install.packages('dtwclust')\n",
    "install.packages('rucrdtw')\n",
    "install.packages('MLmetrics')\n",
    "install.packages('caret')\n",
    "install.packages('e1071')"
   ]
  },
  {
   "cell_type": "code",
   "execution_count": 3,
   "metadata": {
    "collapsed": true
   },
   "outputs": [
    {
     "name": "stderr",
     "output_type": "stream",
     "text": [
      "Loading required package: proxy\n",
      "\n",
      "Attaching package: ‘proxy’\n",
      "\n",
      "The following objects are masked from ‘package:stats’:\n",
      "\n",
      "    as.dist, dist\n",
      "\n",
      "The following object is masked from ‘package:base’:\n",
      "\n",
      "    as.matrix\n",
      "\n",
      "Loading required package: dtw\n",
      "Loaded dtw v1.21-3. See ?dtw for help, citation(\"dtw\") for use in publication.\n",
      "\n",
      "dtwclust:\n",
      "Setting random number generator to L'Ecuyer-CMRG (see RNGkind()).\n",
      "To read the included vignettes type: browseVignettes(\"dtwclust\").\n",
      "See news(package = \"dtwclust\") after package updates.\n",
      "\n",
      "Attaching package: ‘MLmetrics’\n",
      "\n",
      "The following object is masked from ‘package:base’:\n",
      "\n",
      "    Recall\n",
      "\n",
      "Loading required package: lattice\n",
      "Loading required package: ggplot2\n",
      "\n",
      "Attaching package: ‘caret’\n",
      "\n",
      "The following objects are masked from ‘package:MLmetrics’:\n",
      "\n",
      "    MAE, RMSE\n",
      "\n"
     ]
    }
   ],
   "source": [
    "library(dtwclust)\n",
    "library(rucrdtw)\n",
    "library(MLmetrics)\n",
    "library(caret)\n",
    "library(e1071)"
   ]
  },
  {
   "cell_type": "code",
   "execution_count": 12,
   "metadata": {},
   "outputs": [
    {
     "name": "stdout",
     "output_type": "stream",
     "text": [
      "     user    system   elapsed \n",
      "15612.079   358.831 15998.342 \n",
      "    user   system  elapsed \n",
      "15229.46   339.95 15591.04 \n",
      "     user    system   elapsed \n",
      "15410.410   304.368 15744.394 \n",
      "     user    system   elapsed \n",
      "16240.544   344.755 16604.305 \n"
     ]
    }
   ],
   "source": [
    "windows <- list(2,3,4,5)\n",
    "for (window in windows){\n",
    "ptm <- proc.time()\n",
    "\n",
    "for (i in seq_len(10)){\n",
    "for (j in seq_len(15)){\n",
    "accuracies_duo <- vector(\"list\", 9)\n",
    "counter <- 1\n",
    "for (k in seq_len(3)){ \n",
    "for (l in seq_len(3)){\n",
    "    \n",
    "  x_train <- data.matrix(read.csv(paste('noise',i-1,'/duo',j-1,'/split',k-1,'/x_train',l-1,'.csv', sep=''))[-1])\n",
    "  x_test <- data.matrix(read.csv(paste('noise',i-1,'/duo',j-1,'/split',k-1,'/x_test',l-1,'.csv', sep=''))[-1])\n",
    "  y_train <- rep(1:2, each=as.integer(nrow(x_train)/2))\n",
    "  y_test <- rep(1:2, each=as.integer(nrow(x_test)/2))\n",
    "  \n",
    "  N <- nrow(x_test)\n",
    "  loc <- vector(\"list\", N) \n",
    "  for (m in seq_len(N)){\n",
    "    loc[[m]] <- ucrdtw_mv(x_train, x_test[m,], window/170, byrow = TRUE)[1]\n",
    "  }\n",
    "  y_pred <- y_train[c(unlist(loc))]  \n",
    "  accuracies_duo[[counter]] <- Accuracy(y_pred, y_test)\n",
    "  counter <- counter + 1\n",
    "}\n",
    "    }\n",
    "tocsv <- data.frame(accuracies_duo)\n",
    "write.csv(tocsv,file=paste('noise',i-1,'/duo',j-1,'/1NNDTW',window,'.csv', sep=''))\n",
    "}\n",
    "    }\n",
    "print(proc.time() - ptm)  \n",
    "}"
   ]
  }
 ],
 "metadata": {
  "kernelspec": {
   "display_name": "R",
   "language": "R",
   "name": "ir"
  },
  "language_info": {
   "codemirror_mode": "r",
   "file_extension": ".r",
   "mimetype": "text/x-r-source",
   "name": "R",
   "pygments_lexer": "r",
   "version": "3.6.1"
  }
 },
 "nbformat": 4,
 "nbformat_minor": 2
}
