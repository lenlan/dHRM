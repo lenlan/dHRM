{
 "cells": [
  {
   "cell_type": "code",
   "execution_count": 3,
   "metadata": {},
   "outputs": [],
   "source": [
    "import numpy as np\n",
    "import pandas as pd\n",
    "import matplotlib.pyplot as plt\n",
    "import time\n",
    "\n",
    "from sklearn.metrics import accuracy_score\n",
    "from tslearn.neighbors import KNeighborsTimeSeriesClassifier"
   ]
  },
  {
   "cell_type": "code",
   "execution_count": 4,
   "metadata": {},
   "outputs": [
    {
     "name": "stdout",
     "output_type": "stream",
     "text": [
      "1405.1696496009827\n"
     ]
    }
   ],
   "source": [
    "start = time.time()\n",
    "for i in range(10):\n",
    "    for j in range(50):\n",
    "        accuracies_duo = []\n",
    "        for k in range(3):\n",
    "            for l in range(3):\n",
    "                x_train = pd.read_csv('noise'+str(i)+'/duo'+str(j)+'/split'+str(k)+'/x_train'+str(l)+'.csv').iloc[:,1:].values\n",
    "                x_test = pd.read_csv('noise'+str(i)+'/duo'+str(j)+'/split'+str(k)+'/x_test'+str(l)+'.csv').iloc[:,1:].values\n",
    "                y_train = np.array([np.ones(int(len(x_train)/2))*i for i in range(2)]).ravel()\n",
    "                y_test = np.array([np.ones(int(len(x_test)/2))*i for i in range(2)]).ravel()\n",
    "\n",
    "                knn_clf = KNeighborsTimeSeriesClassifier(n_neighbors=1, metric='euclidean')\n",
    "                knn_clf.fit(x_train, y_train)\n",
    "                predicted_labels = knn_clf.predict(x_test)\n",
    "                accuracies_duo.append(accuracy_score(y_test, predicted_labels))\n",
    "        pd.DataFrame(accuracies_duo).to_csv('noise'+str(i)+'/duo'+str(j)+'/1NNED.csv')\n",
    "print(time.time() - start)\n"
   ]
  },
  {
   "cell_type": "markdown",
   "metadata": {},
   "source": [
    "# Classification Chips1"
   ]
  },
  {
   "cell_type": "code",
   "execution_count": 4,
   "metadata": {
    "collapsed": true
   },
   "outputs": [
    {
     "ename": "NameError",
     "evalue": "name 'accuracies_duo' is not defined",
     "output_type": "error",
     "traceback": [
      "\u001b[0;31m---------------------------------------------------------------------------\u001b[0m",
      "\u001b[0;31mNameError\u001b[0m                                 Traceback (most recent call last)",
      "\u001b[0;32m<ipython-input-4-c6c0644081df>\u001b[0m in \u001b[0;36m<module>\u001b[0;34m\u001b[0m\n\u001b[1;32m     12\u001b[0m     \u001b[0mpredicted_labels\u001b[0m \u001b[0;34m=\u001b[0m \u001b[0mknn_clf\u001b[0m\u001b[0;34m.\u001b[0m\u001b[0mpredict\u001b[0m\u001b[0;34m(\u001b[0m\u001b[0mx_test\u001b[0m\u001b[0;34m)\u001b[0m\u001b[0;34m\u001b[0m\u001b[0;34m\u001b[0m\u001b[0m\n\u001b[1;32m     13\u001b[0m     \u001b[0macc\u001b[0m\u001b[0;34m.\u001b[0m\u001b[0mappend\u001b[0m\u001b[0;34m(\u001b[0m\u001b[0maccuracy_score\u001b[0m\u001b[0;34m(\u001b[0m\u001b[0my_test\u001b[0m\u001b[0;34m,\u001b[0m \u001b[0mpredicted_labels\u001b[0m\u001b[0;34m)\u001b[0m\u001b[0;34m)\u001b[0m\u001b[0;34m\u001b[0m\u001b[0;34m\u001b[0m\u001b[0m\n\u001b[0;32m---> 14\u001b[0;31m \u001b[0mpd\u001b[0m\u001b[0;34m.\u001b[0m\u001b[0mDataFrame\u001b[0m\u001b[0;34m(\u001b[0m\u001b[0maccuracies_duo\u001b[0m\u001b[0;34m)\u001b[0m\u001b[0;34m.\u001b[0m\u001b[0mto_csv\u001b[0m\u001b[0;34m(\u001b[0m\u001b[0mfolder\u001b[0m\u001b[0;34m+\u001b[0m\u001b[0;34m'1NNED.csv'\u001b[0m\u001b[0;34m)\u001b[0m\u001b[0;34m\u001b[0m\u001b[0;34m\u001b[0m\u001b[0m\n\u001b[0m",
      "\u001b[0;31mNameError\u001b[0m: name 'accuracies_duo' is not defined"
     ]
    }
   ],
   "source": [
    "folder = '../'\n",
    "\n",
    "acc=[]\n",
    "for i in range(5):\n",
    "    x_train = pd.read_csv(folder+'x_train'+str(i)+'.csv').iloc[:,1:].values\n",
    "    x_test = pd.read_csv(folder+'x_test'+str(i)+'.csv').iloc[:,1:].values\n",
    "    y_train = pd.read_csv(folder+'y_train'+str(i)+'.csv').iloc[:,1].values\n",
    "    y_test = pd.read_csv(folder+'y_test'+str(i)+'.csv').iloc[:,1].values\n",
    "    \n",
    "    knn_clf = KNeighborsTimeSeriesClassifier(n_neighbors=1, metric='euclidean')\n",
    "    knn_clf.fit(x_train, y_train)\n",
    "    predicted_labels = knn_clf.predict(x_test)\n",
    "    acc.append(accuracy_score(y_test, predicted_labels))\n",
    "pd.DataFrame(acc).to_csv(folder+'1NNED.csv')"
   ]
  }
 ],
 "metadata": {
  "kernelspec": {
   "display_name": "Python 3",
   "language": "python",
   "name": "python3"
  },
  "language_info": {
   "codemirror_mode": {
    "name": "ipython",
    "version": 3
   },
   "file_extension": ".py",
   "mimetype": "text/x-python",
   "name": "python",
   "nbconvert_exporter": "python",
   "pygments_lexer": "ipython3",
   "version": "3.7.3"
  }
 },
 "nbformat": 4,
 "nbformat_minor": 2
}
